{
  "nbformat": 4,
  "nbformat_minor": 0,
  "metadata": {
    "colab": {
      "provenance": []
    },
    "kernelspec": {
      "name": "python3",
      "display_name": "Python 3"
    },
    "language_info": {
      "name": "python"
    }
  },
  "cells": [
    {
      "cell_type": "markdown",
      "source": [
        "# Functions"
      ],
      "metadata": {
        "id": "fbG3T1ftgU9u"
      }
    },
    {
      "cell_type": "markdown",
      "source": [
        "** Functions **\n",
        "\n",
        "- A function in Python is a reusable block of code that performs a specific task. It is defined using the def keyword and can take inputs (parameters) and return an output."
      ],
      "metadata": {
        "id": "uqKFEOAXgZB6"
      }
    },
    {
      "cell_type": "code",
      "execution_count": null,
      "metadata": {
        "id": "AESflQkGf-4s"
      },
      "outputs": [],
      "source": [
        "# Defining a function\n",
        "def add(a, b):\n",
        "    return a + b\n",
        "\n",
        "result = add(3, 5)\n"
      ]
    },
    {
      "cell_type": "code",
      "source": [
        "# Passing Information to a Function\n",
        "def greet(name):\n",
        "    print(\"Hello, \" + name + \"!\")\n",
        "\n",
        "greet(\"Alice\")"
      ],
      "metadata": {
        "id": "VRWhuqhDg06r"
      },
      "execution_count": null,
      "outputs": []
    },
    {
      "cell_type": "code",
      "source": [
        "# Passing Argument to a Function\n",
        "\n",
        "#Positional Argument\n",
        "def greet(name, age):\n",
        "    print(\"Hello, my name is \" + name + \" and I am \" + str(age) + \" years old.\")\n",
        "\n",
        "greet(\"Alice\", 25)"
      ],
      "metadata": {
        "id": "BYzB0Imlg_fa"
      },
      "execution_count": null,
      "outputs": []
    },
    {
      "cell_type": "code",
      "source": [
        "# Multiple Functions Calls\n",
        "def add(a, b):\n",
        "    return a + b\n",
        "\n",
        "def multiply(a, b):\n",
        "    return a * b\n",
        "\n",
        "result1 = add(3, 5)\n",
        "result2 = multiply(3, 5)\n",
        "print(f\"The adition of 3 and 5 is {result1} and the multiplication of 3 and 5 is {result2}\")"
      ],
      "metadata": {
        "id": "dBUushmnhje4"
      },
      "execution_count": null,
      "outputs": []
    },
    {
      "cell_type": "code",
      "source": [
        "#Order Matters in Positional Arguments\n",
        "def greet(name, age):\n",
        "    print(\"Hello, my name is \" + name + \" and I am \" + str(age) + \" years old.\")\n",
        "\n",
        "greet(25, \"Alice\") # Function is expecting the first parameter to be of type text, and second to be of type numeric"
      ],
      "metadata": {
        "id": "v5rEnI0ThqgO"
      },
      "execution_count": null,
      "outputs": []
    },
    {
      "cell_type": "code",
      "source": [
        "#Keyword Arguments\n",
        "def greet(name, age):\n",
        "    print(\"Hello, my name is \" + name + \" and I am \" + str(age) + \" years old.\")\n",
        "\n",
        "greet(age=25, name=\"Alice\") # Order here does not matter because you directly associates the name and the value within the argument\n",
        "#When you use keyword argument, be sure to use the exact names of the parameters in the function's definition"
      ],
      "metadata": {
        "id": "KkcCIi3Lhqjd"
      },
      "execution_count": null,
      "outputs": []
    },
    {
      "cell_type": "code",
      "source": [
        "#Default VAlues\n",
        "def greet(name, age=40):\n",
        "    print(\"Hello, my name is \" + name + \" and I am \" + str(age) + \" years old.\")\n",
        "\n",
        "greet(name=\"Alice\")"
      ],
      "metadata": {
        "id": "_x63I76Khqm3"
      },
      "execution_count": null,
      "outputs": []
    },
    {
      "cell_type": "code",
      "source": [
        "#Equivalent Function Calls\n",
        "def add(a, b):\n",
        "    return a + b\n",
        "\n",
        "result1 = add(3, 5)\n",
        "result2 = add(a=3, b=5)\n",
        "result1==result2\n",
        "#It doesn't really matter which calling style you use. As long as your function calls produce the output you want,\n",
        "#just the style you find easiest to understand"
      ],
      "metadata": {
        "id": "w78Mf50Bhqpq"
      },
      "execution_count": null,
      "outputs": []
    },
    {
      "cell_type": "code",
      "source": [
        "#Avoiding Argument Errors\n",
        "def greet(name, age):\n",
        "    print(\"Hello, my name is \" + name + \" and I am \" + str(age) + \" years old.\")\n",
        "\n",
        "greet(\"Alice\") # TypeError: greet() missing 1 required positional argument: 'age' how to solve it?"
      ],
      "metadata": {
        "id": "CG0ir0Tpj5PD"
      },
      "execution_count": null,
      "outputs": []
    },
    {
      "cell_type": "code",
      "source": [
        "#Returning a Simple Value\n",
        "def student_full_name(firstName, lastName=\"\"): # Note: havins last name =\"\" so if we didn't provide last function is still working\n",
        "    std_full_name = firstName + \" \" + lastName\n",
        "    return std_full_name.title()\n",
        "\n",
        "student = student_full_name('Mary', 'Carolina')\n",
        "print(student)\n"
      ],
      "metadata": {
        "id": "mEuV70YSj5SE"
      },
      "execution_count": null,
      "outputs": []
    },
    {
      "cell_type": "code",
      "source": [
        "def get_your_full_name(first_name,  last_name, middle_name=\"\"):\n",
        "  if len(middle_name) > 0:\n",
        "    full_name = first_name + \" \" + middle_name + \" \" + last_name\n",
        "    return full_name.title()\n",
        "  full_name = first_name + \" \" + last_name\n",
        "  return full_name.title()\n",
        "get_your_full_name(\"Maria\", \"Misoura\")"
      ],
      "metadata": {
        "id": "mWLTNi4Ej5YF"
      },
      "execution_count": null,
      "outputs": []
    },
    {
      "cell_type": "code",
      "source": [
        "#Returning a dictionary\n",
        "def get_hack_a_ton_data(group_name, grade):  # Change the returning if you think of better way\n",
        "  return {\n",
        "        \"group_name\": group_name,\n",
        "        \"grade\": grade\n",
        "    }\n",
        "\n",
        "get_hack_a_ton_data(\"Maria\", \"Carolina\")"
      ],
      "metadata": {
        "id": "6WQrOLMHol9g"
      },
      "execution_count": null,
      "outputs": []
    },
    {
      "cell_type": "code",
      "source": [
        "#Passing a list\n",
        "def get_a_list (lst):  # Here the function is taking a list and combine its value.\n",
        "  text=\"\"\n",
        "  for item in lst:\n",
        "    text = text + item + \" \"\n",
        "  return text\n",
        "\n",
        "get_a_list([\"Maria\",\"Carolina\", \"NC\"])"
      ],
      "metadata": {
        "id": "PLY5FluSodNH"
      },
      "execution_count": null,
      "outputs": []
    },
    {
      "cell_type": "code",
      "source": [
        "#Modifying a list in a function # Skip this if you did not\n",
        "#When we pas a list to function, does the origin list change as we manupilate the list within the function?\n",
        "grades = [85, 93, 45, 89, 85]\n",
        "def curved_grade(grades):\n",
        "  for i in range(len(grades)):\n",
        "    if grades[i] >= 90: # If the the value greater than 90 we curve it to 100\n",
        "      grades[i] = 100\n",
        "    elif grades[i] >= 80: #\n",
        "      grades[i] = 90\n",
        "    elif grades[i] >= 70: #\n",
        "      grades[i] = 80\n",
        "    else: #\n",
        "      grades[i] = grades[i]+10\n",
        "  return grades\n",
        "\n",
        "new_grades=curved_grade(grades)\n",
        "print(f\"Original list: {grades}, new list: {new_grades}\")\n",
        "#Function can change the list\n",
        "#What can we do to prevent the change and keep original list untouch?"
      ],
      "metadata": {
        "id": "L9EYecw6odQV"
      },
      "execution_count": null,
      "outputs": []
    },
    {
      "cell_type": "code",
      "source": [
        "# Is there a way to prevent the original list from being manipulated within the function?\n",
        "grades = [85, 93, 45, 89, 85]\n",
        "def untouch_curved_grade(grades):\n",
        "  new_grades=grades.copy()\n",
        "  for i in range(len(new_grades)):\n",
        "    if new_grades[i] >= 90:\n",
        "      new_grades[i] = 100\n",
        "    elif new_grades[i] >= 80:\n",
        "      new_grades[i] = 90\n",
        "    elif new_grades[i] >= 70:\n",
        "      new_grades[i] = 80\n",
        "    else:\n",
        "      new_grades[i] = new_grades[i]+10\n",
        "  return new_grades\n",
        "\n",
        "new_grades=untouch_curved_grade(grades)\n",
        "print(f\"Original list: {grades}, New list: {new_grades}\")"
      ],
      "metadata": {
        "id": "jD-EOaArodTV"
      },
      "execution_count": null,
      "outputs": []
    },
    {
      "cell_type": "code",
      "source": [
        "#Anothe way to prevent a function from modifying a list\n",
        "grades = [85, 93, 45, 89, 85]\n",
        "\n",
        "new_grades=curved_grade(grades[:])\n",
        "print(f\"grades: {grades}, curved grades: {new_grades}\")"
      ],
      "metadata": {
        "id": "HjwvppfbuJpq"
      },
      "execution_count": null,
      "outputs": []
    },
    {
      "cell_type": "code",
      "source": [
        "#Passing an Arbitrary Number of Arguments\n",
        "#Sometimes we don't know how many elements or values want to pass to the list\n",
        "def my_arg(*arg):\n",
        "  return arg\n",
        "\n",
        "l1=my_arg(1,2,3,4)\n",
        "l2=my_arg(1)\n",
        "print(f\"l1 is {l1}\\nl2 is {l2}\")"
      ],
      "metadata": {
        "id": "iMxOlo6CuJvW"
      },
      "execution_count": null,
      "outputs": []
    },
    {
      "cell_type": "code",
      "source": [
        "# Do Sum\n",
        "def do_sum(*args):\n",
        "    total = 0\n",
        "    for num in args:\n",
        "        total += num\n",
        "    return total\n",
        "\n",
        "\n",
        "result = do_sum(1, 2, 3, 4, -5)\n",
        "print(result)"
      ],
      "metadata": {
        "id": "r_UgoKnNvxcS"
      },
      "execution_count": null,
      "outputs": []
    },
    {
      "cell_type": "code",
      "source": [
        "#We need function to handle the data you are providing into it.\n",
        "#Sometimes, you won't know how many info you are getting to use in the function.\n",
        "#For this reason you can use something called Arbitrary Keyword Argument\n",
        "#function that looks like this your_function(field_you_know, **filed_you_don't_know_but_expected)\n",
        "# ** field will be treated as a dictionary\n",
        "\n",
        "def student_profile(first_name,last_name,grade,**additional_info):\n",
        "  additional_info['first_name']=first_name\n",
        "  additional_info['last_name']=last_name\n",
        "  additional_info['grade']=grade\n",
        "  return additional_info\n",
        "\n",
        "print(student_profile(\"Mohamed\", \"Shahid\",100))\n",
        "print(student_profile(\"Mohamed\", \"Shahid\",100,comment ='This is a great grade')) # Look at the name of argument\n",
        "print(student_profile(\"Mohamed\", \"Shahid\",100,location=\"U.S.\", comment ='This is a great grade'))\n"
      ],
      "metadata": {
        "id": "xUM-Be0ryVR-"
      },
      "execution_count": null,
      "outputs": []
    },
    {
      "cell_type": "code",
      "source": [
        "# Mixing Positional and Arbitrary Arguments\n",
        "def grade_result(pass_grade,*numbers):\n",
        "  t=0\n",
        "  total_number_passed=len(numbers)\n",
        "  for i in range(0,total_number_passed):\n",
        "    t+=numbers[i]\n",
        "  if t/total_number_passed>pass_grade:\n",
        "    r='Pass'\n",
        "  else:\n",
        "    r='Fail'\n",
        "  return r\n",
        "\n",
        "result=grade_result(80, 20,30,140,150)\n",
        "print(result)"
      ],
      "metadata": {
        "id": "OhMWRxsXuJ0-"
      },
      "execution_count": null,
      "outputs": []
    },
    {
      "cell_type": "markdown",
      "source": [
        "# Breakout Rooms Ex"
      ],
      "metadata": {
        "id": "QVr4fO3d3HFa"
      }
    },
    {
      "cell_type": "markdown",
      "source": [
        " **Scenario:**\n",
        "\n",
        "As a Data Analyst, you need to check a dataset for missing values, duplicates, and extreme values.\n",
        "\n",
        "Task: Write a function **data_quality_check**\n",
        "\n",
        "This function should:\n",
        "\n",
        "* Count missing values (None) in the dataset.\n",
        "\n",
        "* Count duplicate values in the dataset.\n",
        "\n",
        "* Find extreme values (values greater than 1500, assuming it's an unusually high number).\n",
        "\n",
        "* Return a summary as a dictionary."
      ],
      "metadata": {
        "id": "SejL6mXe3VRY"
      }
    },
    {
      "cell_type": "code",
      "source": [
        "# Sample sales data (with some missing values, duplicates, and extreme values)\n",
        "sales_data = [120, 300, None, 500, 300, 750, 800, 500, 120, None, 2000, 150, 400, 200]\n",
        "\n"
      ],
      "metadata": {
        "id": "9v2dah1MyVWg"
      },
      "execution_count": null,
      "outputs": []
    }
  ]
}