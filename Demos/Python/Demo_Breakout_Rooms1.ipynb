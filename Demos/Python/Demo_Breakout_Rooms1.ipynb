{
  "nbformat": 4,
  "nbformat_minor": 0,
  "metadata": {
    "colab": {
      "provenance": [],
      "collapsed_sections": [
        "BnsYAfqATpLq",
        "3omqsLnqUjGO",
        "EmyKbX1hXqBp"
      ]
    },
    "kernelspec": {
      "name": "python3",
      "display_name": "Python 3"
    },
    "language_info": {
      "name": "python"
    }
  },
  "cells": [
    {
      "cell_type": "markdown",
      "source": [
        "# Assignment 1: Student Grade Tracker\n",
        "📌 Concepts Covered: Dictionary, List, if conditions, Boolean\n"
      ],
      "metadata": {
        "id": "BnsYAfqATpLq"
      }
    },
    {
      "cell_type": "markdown",
      "source": [
        "Problem Statement:\n",
        "\n",
        "Create a Python program that tracks student grades. The program should:\n",
        "\n",
        "Store student names and their corresponding grades using a dictionary.\n",
        "\n",
        "2. Allow the user to input a student's name and grade.\n",
        "3. Check if the student has passed (grade >= 50) or failed.\n",
        "4. Print a message indicating whether the student has passed or failed.\n",
        "5. Allow the user to check if a student's name exists in the dictionary.\n",
        "\n",
        "---\n",
        "Example: Output\n",
        "\n",
        "- Enter student name: Alice\n",
        "- Enter grade: 78\n",
        "- Alice has passed.\n",
        "\n",
        "- Check a student's record? (yes/no): yes\n",
        "- Enter student name to check: Bob\n",
        "- Bob is not in the records.\n",
        "- Check a student's record? (yes/no): yes\n",
        "- Enter student name to check: Alice\n",
        "- Alice grade is 78. Result: Passed\n",
        "- Check a student's record? (yes/no): no\n",
        "- Quit the program"
      ],
      "metadata": {
        "id": "zuWntA0xVF4e"
      }
    },
    {
      "cell_type": "code",
      "execution_count": null,
      "metadata": {
        "id": "9oVKgEovThIF"
      },
      "outputs": [],
      "source": [
        "# Start coding here\n"
      ]
    },
    {
      "cell_type": "markdown",
      "source": [
        "# Assignment 2: Unique Words Finder\n",
        "📌 Concepts Covered: List, Set, Boolean\n",
        "\n"
      ],
      "metadata": {
        "id": "3omqsLnqUjGO"
      }
    },
    {
      "cell_type": "markdown",
      "source": [
        "Problem Statement\n",
        "\n",
        "Write a Python program that:\n",
        "\n",
        "- Takes a sentence as input from the user.\n",
        "- Splits the sentence into words and stores them in a list.\n",
        "- Converts the list into a set to remove duplicates.\n",
        "- Checks if a specific word (entered by the user) is in the sentence.\n",
        "- Prints the total number of unique words and whether the word exists in the sentence.\n",
        "\n",
        "---\n",
        "\n",
        "Output:\n",
        "\n",
        "Enter a sentence: Python is fun and Python is powerful.\n",
        "Unique words: {'Python', 'is', 'fun', 'and', 'powerful'}\n",
        "Enter a word to check: fun\n",
        "Is \"fun\" in the sentence? True\n",
        "Enter a word to check: nice\n",
        "Is \"nice\" in the sentence? False\n"
      ],
      "metadata": {
        "id": "r2DPAoWSVNDm"
      }
    },
    {
      "cell_type": "code",
      "source": [
        "# Try your code here\n"
      ],
      "metadata": {
        "id": "oSoEDWLrWEQZ"
      },
      "execution_count": null,
      "outputs": []
    },
    {
      "cell_type": "markdown",
      "source": [
        "# Assignment 3: Grocery Store Inventory\n",
        "📌 Concepts Covered: Dictionary, List, if conditions\n",
        "\n"
      ],
      "metadata": {
        "id": "EmyKbX1hXqBp"
      }
    },
    {
      "cell_type": "markdown",
      "source": [
        "Problem Statement\n",
        "\n",
        "Create a Python program that simulates a grocery store inventory system. The program should:\n",
        "\n",
        "- Store grocery items and their prices in a dictionary.\n",
        "- Allow the user to enter a grocery item they want to check.\n",
        "- If the item exists, display its price. Otherwise, inform the user that the item is not available.\n",
        "- Allow the user to add new items to the inventory.\n",
        "- Print the updated inventory.\n",
        "\n",
        "---\n",
        "\n",
        "Output:\n",
        "\n",
        "- Current inventory: {'apple': 1.5, 'banana': 0.5, 'milk': 3.0}\n",
        "- - Enter an item to check: banana\n",
        "- - Price of banana: $0.5\n",
        "\n",
        "- Enter an item to check: peach\n",
        "- - Sorry, Item is not available\n",
        "\n",
        "- Do you want to add a new item? (yes/no): yes\n",
        "- - Enter new item name: orange\n",
        "- - Enter price: 2.0\n",
        "\n",
        "- Do you want to add a new item? (yes/no): no\n",
        "- - Thank you! Here is our current inventory\n",
        "{'apple': 1.5, 'banana': 0.5, 'milk': 3.0, 'orange': 2.0}\n"
      ],
      "metadata": {
        "id": "_sXiQiJGXysE"
      }
    },
    {
      "cell_type": "code",
      "source": [
        "#Tryyour code here"
      ],
      "metadata": {
        "id": "yxPNSjLIYuqa"
      },
      "execution_count": null,
      "outputs": []
    }
  ]
}