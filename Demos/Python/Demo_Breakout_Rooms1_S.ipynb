{
  "nbformat": 4,
  "nbformat_minor": 0,
  "metadata": {
    "colab": {
      "provenance": []
    },
    "kernelspec": {
      "name": "python3",
      "display_name": "Python 3"
    },
    "language_info": {
      "name": "python"
    }
  },
  "cells": [
    {
      "cell_type": "markdown",
      "source": [
        "## Suggested Solution for Assignment 1\n"
      ],
      "metadata": {
        "id": "vAfhi81v7dLj"
      }
    },
    {
      "cell_type": "code",
      "execution_count": null,
      "metadata": {
        "id": "dnxa1zMu4BD5"
      },
      "outputs": [],
      "source": [
        "# allow user to add name and grade\n",
        "# Mari --> 100, Ali --> 100, Pol --> 89, Youness --> 49\n",
        "number_students=int(input(\"How many students are in the class: \")) # How many student you are handling\n",
        "i=0 # initial value\n",
        "class_dict={} # make it empty\n",
        "while i<number_students:  #Using while allows student add many students\n",
        "  name=input(\"Enter your name: \")\n",
        "  grade = int(input(\"What is your grade: \"))\n",
        "  class_dict[name.lower()]=grade # adding the name and grade to dictionnary\n",
        "  i+=1\n",
        "print(class_dict)\n"
      ]
    },
    {
      "cell_type": "code",
      "source": [
        "# Example of using for loop\n",
        "ex_list=[23,34,\"val\", \"56\"]\n",
        "# for item in ex_list:\n",
        "#   print(item)\n",
        "\n",
        "n=len(ex_list)\n",
        "for i in range(n):\n",
        "  print(\"index = \", i, \" Value is: \", ex_list[i])"
      ],
      "metadata": {
        "id": "OllaRldFZXm9"
      },
      "execution_count": null,
      "outputs": []
    },
    {
      "cell_type": "code",
      "source": [
        "#Example of showing only values in the dict {x_dict}\n",
        "x_dict={\n",
        "    \"name\": \"Ali\",\n",
        "    \"Grade\": 98,\n",
        "    \"Gender\": \"Male\",\n",
        "    \"City\": \"Raleigh\"\n",
        "}\n",
        "x_dict.values()"
      ],
      "metadata": {
        "id": "bYeR_6yIb7GV"
      },
      "execution_count": null,
      "outputs": []
    },
    {
      "cell_type": "code",
      "source": [
        "# using while loop\n",
        "i=5\n",
        "while i<n: # 0< 4 --> Get in the while and read the code, i=1<4 get in the while and read the code\n",
        "  print(\"index = \", i, \" Value is: \", ex_list[i])\n",
        "  i+=1  # increase the i by 1 , i=2"
      ],
      "metadata": {
        "id": "86gU19bSaRgf"
      },
      "execution_count": null,
      "outputs": []
    },
    {
      "cell_type": "code",
      "source": [
        "# Check if student pass\n",
        "#create a function to take of it\n",
        "def passing_fct(name, name_dict=class_dict):\n",
        "  if name.lower() not in name_dict.keys():\n",
        "    return \"Name does not exist\"\n",
        "  else:\n",
        "    if name_dict[name.lower()]>=50:\n",
        "      return \"Pass\"\n",
        "    else:\n",
        "      return \"Fail\""
      ],
      "metadata": {
        "id": "2iXBumjI5Ia7"
      },
      "execution_count": null,
      "outputs": []
    },
    {
      "cell_type": "code",
      "source": [
        "#Calling the function\n",
        "passing_fct(\"kamal\")"
      ],
      "metadata": {
        "id": "PPS4DMWn5lYB"
      },
      "execution_count": null,
      "outputs": []
    },
    {
      "cell_type": "markdown",
      "source": [
        "Think about other ways that you can use to improve your code.\n",
        "\n",
        "Ex: You asked the user to enter number of students, so your code is expecting a number, what about if the user enter a text? How you should take care of this case."
      ],
      "metadata": {
        "id": "DvujLe-Y7koQ"
      }
    },
    {
      "cell_type": "markdown",
      "source": [
        "## Suggested Solution for Assignment *2*"
      ],
      "metadata": {
        "id": "mTcQuaPD8HzX"
      }
    },
    {
      "cell_type": "code",
      "source": [
        "# Enter a sentence\n",
        "sentence=input(\"Enter a sentence: \")\n",
        "# Let's split the sentence\n",
        "sentence_list=sentence.split() # Split() will do the work for us.\n",
        "# Create a set from previous list\n",
        "unique_words=set(sentence_list)\n",
        "\n",
        "# Check if a specific word exist or not\n",
        "word=input(\"Enter your word: \")\n",
        "if word in unique_words:\n",
        "  print(\"Word exist\")\n",
        "else:\n",
        "  print(\"Word does not exist\")\n",
        "print(\"The total number of unique word is: \", len(unique_words))"
      ],
      "metadata": {
        "id": "ggP5Pzs38N5o"
      },
      "execution_count": null,
      "outputs": []
    },
    {
      "cell_type": "code",
      "source": [
        "#Change the preiovus code into a function\n",
        "def word_count(word, sentence):\n",
        "  sentence_list=sentence.split()\n",
        "  unique_words=set(sentence_list)\n",
        "  if word in unique_words:\n",
        "    print(\"Word exist\")\n",
        "  else:\n",
        "    print(\"Word does not exist\")\n",
        "  return \"The total number of unique word is: \", len(unique_words)\n",
        ""
      ],
      "metadata": {
        "id": "nB4KSkom8N7N"
      },
      "execution_count": null,
      "outputs": []
    },
    {
      "cell_type": "code",
      "source": [
        "word_count(\"hello\", \"hello world\")"
      ],
      "metadata": {
        "id": "31S7m3gc8N9e"
      },
      "execution_count": null,
      "outputs": []
    },
    {
      "cell_type": "markdown",
      "source": [
        "## Suggested Solution for Assignment *3*"
      ],
      "metadata": {
        "id": "KMfTPTrZ-PMx"
      }
    },
    {
      "cell_type": "code",
      "source": [
        "# started with defined list of grocery items and their prices\n",
        "\n",
        "#Consider this is your data\n",
        "grocery_list = [\n",
        "    { \"item\" : \"apple\", \"price\": 0.79}, # keys = item, price   ( Type) Error                    #1 does Qte exist in this line (No)\n",
        "    { \"item\" : \"peach\", \"price\": 1.5, \"Qte\": 100}, # keys = item, price, Qte (Type) Error       #2 Does Qte exist in this line (Yes)\n",
        "    { \"item\" : \"banana\", \"price\": 0.69, \"Type\": \"Organic\"}, # Type exist here as a key          #3  Does Qte exist in this line (No)\n",
        "    { \"item\" : \"banana\", \"price\": 0.9, \"Type\": \"Reg\"}] # keys = item, price, Type               #4\n",
        ""
      ],
      "metadata": {
        "id": "8QL4Xq-b-Ooq"
      },
      "execution_count": null,
      "outputs": []
    },
    {
      "cell_type": "code",
      "source": [
        "for item in grocery_list:\n",
        "  if \"Qte\" not in item.keys():\n",
        "    continue\n",
        "  elif item[\"Qte\"]>50:  ##### Python did not find the word Type in the first dictionary keys\n",
        "    print(item[\"price\"])"
      ],
      "metadata": {
        "id": "8pNI3QW2dqAa"
      },
      "execution_count": null,
      "outputs": []
    },
    {
      "cell_type": "code",
      "source": [
        "for item in grocery_list:\n",
        "  print(item.keys())\n",
        "  if \"Qte\" in item.keys():\n",
        "    if item[\"Qte\"]>50:  ##### Python did not find the word Type in the first dictionary keys\n",
        "     print(item[\"price\"])"
      ],
      "metadata": {
        "id": "Eg67I35ZjN25"
      },
      "execution_count": null,
      "outputs": []
    },
    {
      "cell_type": "code",
      "source": [
        "x={\n",
        "    \"names\": [\"Ali\", \"Kamal\", \"Ahmed\"],\n",
        "    \"Grade\": 98,\n",
        "    \"Gender\": \"Male\",\n",
        "    \"City\": \"Raleigh\"\n",
        "}\n",
        "for item in x.items(): # items bring to the table the key and its value\n",
        "  print(item)"
      ],
      "metadata": {
        "id": "r1G-y9CXkRKq"
      },
      "execution_count": null,
      "outputs": []
    },
    {
      "cell_type": "code",
      "source": [
        "for item in x.keys():\n",
        "  print(item)"
      ],
      "metadata": {
        "id": "Z4yTlac1klKU"
      },
      "execution_count": null,
      "outputs": []
    },
    {
      "cell_type": "code",
      "source": [
        "for item in x.values():\n",
        "  print(item)"
      ],
      "metadata": {
        "id": "JewmT4kEkvBg"
      },
      "execution_count": null,
      "outputs": []
    },
    {
      "cell_type": "code",
      "source": [
        "for k,v in x.items():\n",
        "  print(\"Key -->\", k,\"  This is value -->\", v)"
      ],
      "metadata": {
        "id": "3k3RUNtpk3SB"
      },
      "execution_count": null,
      "outputs": []
    },
    {
      "cell_type": "code",
      "source": [
        "p=(1,2)\n",
        "a,b,c=p\n",
        "print(\"a = \", a, \" b = \", b, \" c = \", c)"
      ],
      "metadata": {
        "id": "FVU9KTqZlb92"
      },
      "execution_count": null,
      "outputs": []
    },
    {
      "cell_type": "code",
      "source": [
        "# Create a function that allows the user to enter a grocery item they want to check\n",
        "def check_item(item, dt=grocery_list):\n",
        "  available_item=[(item['item'], item['price']) for item in grocery_list]\n",
        "  for elem in available_item:\n",
        "    if elem[0]==item:\n",
        "      return \"Item exist: \", elem\n",
        "  msg=input(\"Item does not exist. Would you like to add it? Y/N \")\n",
        "  if msg in [\"Y\",\"Yes\",\"y\",\"yes\"]:\n",
        "    print(\"Thanks for adding this elemenet, \", item)\n",
        "    price=float(input(\"Add price for the item: \"))\n",
        "    grocery_list.append({\"item\": item, \"price\": price})\n",
        "    print(\"Grocery's updated\")\n",
        "  else:\n",
        "    return \"Thank you for using our service\"\n"
      ],
      "metadata": {
        "id": "EpjO0ym28OAs"
      },
      "execution_count": null,
      "outputs": []
    },
    {
      "cell_type": "code",
      "source": [
        "check_item(\"Italian bread\")"
      ],
      "metadata": {
        "id": "heqW2a2HAvRj"
      },
      "execution_count": null,
      "outputs": []
    },
    {
      "cell_type": "code",
      "source": [
        "grocery_list"
      ],
      "metadata": {
        "id": "jTvZnB33EpMx"
      },
      "execution_count": null,
      "outputs": []
    },
    {
      "cell_type": "markdown",
      "source": [
        "## What to expect next:\n",
        "\n",
        "- Working with files & Data Visualization with Python\n",
        "- Intro to Numpy, Pandas\n",
        "- Data Analysis with Python"
      ],
      "metadata": {
        "id": "_COP0vKeKVsG"
      }
    }
  ]
}