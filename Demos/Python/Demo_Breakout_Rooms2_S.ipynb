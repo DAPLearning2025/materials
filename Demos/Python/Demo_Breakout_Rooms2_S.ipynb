{
  "nbformat": 4,
  "nbformat_minor": 0,
  "metadata": {
    "colab": {
      "provenance": []
    },
    "kernelspec": {
      "name": "python3",
      "display_name": "Python 3"
    },
    "language_info": {
      "name": "python"
    }
  },
  "cells": [
    {
      "cell_type": "markdown",
      "source": [
        "## Calculating avergae of 2 or more elements"
      ],
      "metadata": {
        "id": "xZ5IMM3AsYw4"
      }
    },
    {
      "cell_type": "code",
      "source": [
        "# Best practice to have your function defined on one seperated code-cell\n",
        "#Please run it so Python will recognize it when you call it\n",
        "def get_avg(a,b):\n",
        "  return (a+b)/2"
      ],
      "metadata": {
        "id": "D0ZANn53GPTl"
      },
      "execution_count": null,
      "outputs": []
    },
    {
      "cell_type": "code",
      "execution_count": null,
      "metadata": {
        "id": "ev2EsrOC6DKd"
      },
      "outputs": [],
      "source": [
        "# Ask the user to enter 2 numbers and return the avergae\n",
        "user_input1=float(input(\"Enter first number: \"))\n",
        "user_input2=float(input(\"Enter second number: \"))\n",
        "# get_average=(user_input1+user_input2)/2 # I want to invok(Call) a function\n",
        "result=get_avg(user_input1,user_input2)\n",
        "\n",
        "print(f\"The average of {user_input1} and {user_input2} is {result}\")"
      ]
    },
    {
      "cell_type": "code",
      "source": [
        "#Make the code more generic so that the user can add more than one number\n",
        "#Try here before looking at the solution\n"
      ],
      "metadata": {
        "id": "3-qG9s-1JrK4"
      },
      "execution_count": null,
      "outputs": []
    },
    {
      "cell_type": "code",
      "source": [
        "# @title\n",
        "#let's define a function that can take many elements\n",
        "def get_average(*args):\n",
        "  total=0\n",
        "  for i in args:\n",
        "    total+=i\n",
        "  return total/len(args)"
      ],
      "metadata": {
        "cellView": "form",
        "id": "DxP6_jkzr6km"
      },
      "execution_count": null,
      "outputs": []
    },
    {
      "cell_type": "code",
      "source": [
        "# @title\n",
        "#Let's invoke this function\n",
        "get_average(1,2,3,4,5,6,7,8,9,10)"
      ],
      "metadata": {
        "cellView": "form",
        "id": "_EHAS0zDsQIH"
      },
      "execution_count": null,
      "outputs": []
    },
    {
      "cell_type": "markdown",
      "source": [
        "## Dictionnary Practices"
      ],
      "metadata": {
        "id": "UgReJLXjshR3"
      }
    },
    {
      "cell_type": "code",
      "source": [
        "#Ask students to enter their names, major, and store data in dictionary\n",
        "#how many student you are looking for? (think of loop)\n",
        "# number_student=int(input(\"Enter the number of students: \")) # To align with our objective, let's keep 5 students\n",
        "number_student=5\n",
        "#Think about how you will assign data to dict\n",
        "student_data=[]\n",
        "for i in range(number_student):\n",
        "  name=input(\"Enter your name: \")\n",
        "  major=input(\"Enter your major: \")\n",
        "  student_info={\n",
        "    \"name\":name,\n",
        "    \"major\":major\n",
        "  }\n",
        "  student_data.append(student_info)\n",
        "print(student_data)"
      ],
      "metadata": {
        "id": "SUVWZyln6yUJ"
      },
      "execution_count": null,
      "outputs": []
    },
    {
      "cell_type": "code",
      "source": [
        "#You've gotten updated with students grades and wanted to add grade for the current student\n",
        "# Think about how you will bring up data so you can add the grade\n",
        "#Remember, you have a list that contains elements and each element is a dict\n",
        "for student in student_data:\n",
        "  print(f\"\\nEnter grade for student:{student['name']}, with major {student['major']}\")\n",
        "  grade=float(input(f\"\\nEnter grade: \"))\n",
        "  student[\"grade\"]=grade\n",
        "print(student_data)"
      ],
      "metadata": {
        "id": "w4HIHh-f7l8S"
      },
      "execution_count": null,
      "outputs": []
    },
    {
      "cell_type": "code",
      "source": [
        "# Get for each major the total students enrolled and avergae grade\n",
        "#-------------------------------------\n",
        "#Before coding, try to visualize what you are trying to accomplish\n",
        "#try here\n"
      ],
      "metadata": {
        "id": "Ni1Rvhop7l_t"
      },
      "execution_count": null,
      "outputs": []
    },
    {
      "cell_type": "code",
      "source": [
        "# @title\n",
        "# Get for each major the total students enrolled and avergae grade\n",
        "major_average=[]\n",
        "#Get first a set of major we have\n",
        "major_set=set()  #Note we used the set because we can't have same major more than once\n",
        "for student in student_data:\n",
        "  major_set.add(student[\"major\"])\n",
        "#another loop to group data by major\n",
        "for major in major_set:\n",
        "  total_student=0 # for each time we read the loop we initilized total student = 0\n",
        "  total_grade=0 # same thing for here\n",
        "  for student in student_data:\n",
        "    if student[\"major\"]==major:\n",
        "      total_student+=1\n",
        "      total_grade+=student[\"grade\"]\n",
        "\n",
        "  major_average.append({\n",
        "      \"major\":major,\n",
        "      \"total_student\":total_student,\n",
        "      \"average_grade\":total_grade/total_student\n",
        "  })\n",
        "print(major_average)\n",
        "#You can come up with nice code than above.\n"
      ],
      "metadata": {
        "cellView": "form",
        "id": "X1U01dK0t0F_"
      },
      "execution_count": null,
      "outputs": []
    },
    {
      "cell_type": "code",
      "source": [
        "# Let's imagine that you have added 100 students.\n",
        "#Once you restart your session all the data will go away\n",
        "#So you need a better methode to save your data"
      ],
      "metadata": {
        "id": "dmlqaGG2wbQf"
      },
      "execution_count": null,
      "outputs": []
    }
  ]
}